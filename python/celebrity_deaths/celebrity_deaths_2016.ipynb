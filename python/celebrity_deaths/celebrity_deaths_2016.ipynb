{
 "cells": [
  {
   "cell_type": "code",
   "execution_count": 497,
   "metadata": {},
   "outputs": [
    {
     "name": "stdout",
     "output_type": "stream",
     "text": [
      "['celeb_death', 'cause_of_death']\n"
     ]
    }
   ],
   "source": [
    "import pandas as pd\n",
    "\n",
    "x1 = pd.ExcelFile('celebrity_deaths_2016.xlsx')\n",
    "print(x1.sheet_names)\n"
   ]
  },
  {
   "cell_type": "code",
   "execution_count": 498,
   "metadata": {},
   "outputs": [
    {
     "name": "stdout",
     "output_type": "stream",
     "text": [
      "  date of death             name age  \\\n",
      "0    2016-01-01        Tony Lane  71   \n",
      "1    2016-01-01   Gilbert Kaplan  74   \n",
      "2    2016-01-01      Brian Johns  79   \n",
      "3    2016-01-01  Natasha Aguilar  45   \n",
      "4    2016-01-01     Fazu Aliyeva  83   \n",
      "\n",
      "                                                 bio  cause_id  \n",
      "0              American art director (Rolling Stone)    8915.0  \n",
      "1                 American conductor and businessman    2860.0  \n",
      "2  Australian company director, managing director...    2860.0  \n",
      "3  Costa Rican swimmer, silver and bronze medalis...   33897.0  \n",
      "4                   Russian Avar poet and journalist   10648.0  \n"
     ]
    },
    {
     "name": "stderr",
     "output_type": "stream",
     "text": [
      "c:\\Python310\\lib\\site-packages\\openpyxl\\worksheet\\_reader.py:312: UserWarning: Unknown extension is not supported and will be removed\n",
      "  warn(msg)\n"
     ]
    }
   ],
   "source": [
    "df = x1.parse('celeb_death')\n",
    "top5 = df.head(5)\n",
    "print(top5)\n"
   ]
  },
  {
   "cell_type": "code",
   "execution_count": 499,
   "metadata": {},
   "outputs": [
    {
     "name": "stdout",
     "output_type": "stream",
     "text": [
      "date of death    datetime64[ns]\n",
      "name                     object\n",
      "age                      object\n",
      "bio                      object\n",
      "cause_id                float64\n",
      "dtype: object\n",
      "(6594, 5)\n"
     ]
    }
   ],
   "source": [
    "df_types = df.dtypes\n",
    "df_shape = df.shape\n",
    "print(df_types)\n",
    "print(df_shape)\n"
   ]
  },
  {
   "cell_type": "code",
   "execution_count": 500,
   "metadata": {},
   "outputs": [],
   "source": [
    "df = df.drop_duplicates()\n"
   ]
  },
  {
   "cell_type": "code",
   "execution_count": 501,
   "metadata": {},
   "outputs": [
    {
     "name": "stdout",
     "output_type": "stream",
     "text": [
      "   cause_id cause of death\n",
      "0       753            ALS\n",
      "1      1039           bomb\n",
      "2      1120           shot\n",
      "3      1499           fall\n",
      "4      1629           shot\n"
     ]
    },
    {
     "name": "stderr",
     "output_type": "stream",
     "text": [
      "c:\\Python310\\lib\\site-packages\\openpyxl\\worksheet\\_reader.py:312: UserWarning: Unknown extension is not supported and will be removed\n",
      "  warn(msg)\n"
     ]
    }
   ],
   "source": [
    "cause_of_death = x1.parse('cause_of_death')\n",
    "cause_top_5 = cause_of_death.head(5)\n",
    "print(cause_top_5)\n"
   ]
  },
  {
   "cell_type": "code",
   "execution_count": 502,
   "metadata": {},
   "outputs": [
    {
     "data": {
      "text/html": [
       "<div>\n",
       "<style scoped>\n",
       "    .dataframe tbody tr th:only-of-type {\n",
       "        vertical-align: middle;\n",
       "    }\n",
       "\n",
       "    .dataframe tbody tr th {\n",
       "        vertical-align: top;\n",
       "    }\n",
       "\n",
       "    .dataframe thead th {\n",
       "        text-align: right;\n",
       "    }\n",
       "</style>\n",
       "<table border=\"1\" class=\"dataframe\">\n",
       "  <thead>\n",
       "    <tr style=\"text-align: right;\">\n",
       "      <th></th>\n",
       "      <th>cause_id</th>\n",
       "      <th>cause of death</th>\n",
       "    </tr>\n",
       "  </thead>\n",
       "  <tbody>\n",
       "    <tr>\n",
       "      <th>0</th>\n",
       "      <td>753</td>\n",
       "      <td>ALS</td>\n",
       "    </tr>\n",
       "    <tr>\n",
       "      <th>1</th>\n",
       "      <td>1039</td>\n",
       "      <td>bomb</td>\n",
       "    </tr>\n",
       "    <tr>\n",
       "      <th>2</th>\n",
       "      <td>1120</td>\n",
       "      <td>shot</td>\n",
       "    </tr>\n",
       "    <tr>\n",
       "      <th>3</th>\n",
       "      <td>1499</td>\n",
       "      <td>fall</td>\n",
       "    </tr>\n",
       "    <tr>\n",
       "      <th>4</th>\n",
       "      <td>1629</td>\n",
       "      <td>shot</td>\n",
       "    </tr>\n",
       "    <tr>\n",
       "      <th>...</th>\n",
       "      <td>...</td>\n",
       "      <td>...</td>\n",
       "    </tr>\n",
       "    <tr>\n",
       "      <th>344</th>\n",
       "      <td>116752</td>\n",
       "      <td>injuries sustained in Brussels Airport bombings</td>\n",
       "    </tr>\n",
       "    <tr>\n",
       "      <th>345</th>\n",
       "      <td>119640</td>\n",
       "      <td>complications from a fall and Alzheimer's dis...</td>\n",
       "    </tr>\n",
       "    <tr>\n",
       "      <th>346</th>\n",
       "      <td>129613</td>\n",
       "      <td>complications from esophageal cancer and pneu...</td>\n",
       "    </tr>\n",
       "    <tr>\n",
       "      <th>347</th>\n",
       "      <td>133339</td>\n",
       "      <td>pneumonia as a complication from a kidney inf...</td>\n",
       "    </tr>\n",
       "    <tr>\n",
       "      <th>349</th>\n",
       "      <td>192137</td>\n",
       "      <td>complications from Alzheimer's disease and Pa...</td>\n",
       "    </tr>\n",
       "  </tbody>\n",
       "</table>\n",
       "<p>334 rows × 2 columns</p>\n",
       "</div>"
      ],
      "text/plain": [
       "     cause_id                                     cause of death\n",
       "0         753                                                ALS\n",
       "1        1039                                               bomb\n",
       "2        1120                                               shot\n",
       "3        1499                                               fall\n",
       "4        1629                                               shot\n",
       "..        ...                                                ...\n",
       "344    116752    injuries sustained in Brussels Airport bombings\n",
       "345    119640   complications from a fall and Alzheimer's dis...\n",
       "346    129613   complications from esophageal cancer and pneu...\n",
       "347    133339   pneumonia as a complication from a kidney inf...\n",
       "349    192137   complications from Alzheimer's disease and Pa...\n",
       "\n",
       "[334 rows x 2 columns]"
      ]
     },
     "execution_count": 502,
     "metadata": {},
     "output_type": "execute_result"
    }
   ],
   "source": [
    "cause_of_death.drop_duplicates(subset='cause_id')\n"
   ]
  },
  {
   "cell_type": "code",
   "execution_count": 503,
   "metadata": {},
   "outputs": [
    {
     "name": "stdout",
     "output_type": "stream",
     "text": [
      "  date of death             name age  \\\n",
      "0    2016-01-01        Tony Lane  71   \n",
      "1    2016-01-01   Gilbert Kaplan  74   \n",
      "2    2016-01-01      Brian Johns  79   \n",
      "3    2016-01-01  Natasha Aguilar  45   \n",
      "4    2016-01-01     Fazu Aliyeva  83   \n",
      "\n",
      "                                                 bio  cause_id  \\\n",
      "0              American art director (Rolling Stone)    8915.0   \n",
      "1                 American conductor and businessman    2860.0   \n",
      "2  Australian company director, managing director...    2860.0   \n",
      "3  Costa Rican swimmer, silver and bronze medalis...   33897.0   \n",
      "4                   Russian Avar poet and journalist   10648.0   \n",
      "\n",
      "               cause of death  \n",
      "0                brain cancer  \n",
      "1                      cancer  \n",
      "2                      cancer  \n",
      "3   complications of a stroke  \n",
      "4               heart failure  \n"
     ]
    }
   ],
   "source": [
    "df = df.merge(cause_of_death, how='left', on='cause_id')\n",
    "df_top5 = df.head(5)\n",
    "print(df_top5)\n"
   ]
  },
  {
   "cell_type": "code",
   "execution_count": 504,
   "metadata": {},
   "outputs": [],
   "source": [
    "df['age'] = pd.to_numeric(df['age'], errors='coerce').dropna()\n"
   ]
  },
  {
   "cell_type": "code",
   "execution_count": 505,
   "metadata": {},
   "outputs": [
    {
     "name": "stdout",
     "output_type": "stream",
     "text": [
      "76.99418159546777\n"
     ]
    }
   ],
   "source": [
    "avg_age = df['age'].mean()\n",
    "print(avg_age)\n"
   ]
  },
  {
   "cell_type": "code",
   "execution_count": 506,
   "metadata": {},
   "outputs": [
    {
     "name": "stdout",
     "output_type": "stream",
     "text": [
      "4760\n"
     ]
    }
   ],
   "source": [
    "count = len(df[df['age'] > 70].index)\n",
    "print(count)\n"
   ]
  },
  {
   "cell_type": "code",
   "execution_count": 507,
   "metadata": {},
   "outputs": [
    {
     "name": "stdout",
     "output_type": "stream",
     "text": [
      "Vautour\n",
      " euthanised\n"
     ]
    }
   ],
   "source": [
    "df_youngest = df[df['age'] == df['age'].min()]\n",
    "youngest_name = df_youngest.iloc[0]['name']\n",
    "youngest_cause = df_youngest.iloc[0]['cause of death']\n",
    "print(youngest_name)\n",
    "print(youngest_cause)\n"
   ]
  },
  {
   "cell_type": "code",
   "execution_count": 508,
   "metadata": {},
   "outputs": [],
   "source": [
    "df['bio'] = df['bio'].astype(str)\n"
   ]
  },
  {
   "cell_type": "code",
   "execution_count": 509,
   "metadata": {},
   "outputs": [
    {
     "name": "stdout",
     "output_type": "stream",
     "text": [
      "2143\n"
     ]
    }
   ],
   "source": [
    "df_american = df[df['bio'].str.contains('American')]\n",
    "count_american = len(df_american.index)\n",
    "print(count_american)\n"
   ]
  },
  {
   "cell_type": "code",
   "execution_count": 510,
   "metadata": {},
   "outputs": [
    {
     "name": "stdout",
     "output_type": "stream",
     "text": [
      "traffic collision\n"
     ]
    }
   ],
   "source": [
    "import random\n",
    "random.seed(0)\n",
    "\n",
    "df_died_50 = df[\n",
    "    (df['age'] == 50) &\n",
    "    (df['cause of death'].notnull()) &\n",
    "    (df['cause of death'].str.contains('unknown') == False)]\n",
    "causes_of_death = df_died_50['cause of death'].unique()\n",
    "rand_cause = causes_of_death[random.randint(0, causes_of_death.size - 1)]\n",
    "print(rand_cause.strip())\n"
   ]
  },
  {
   "cell_type": "code",
   "execution_count": 511,
   "metadata": {},
   "outputs": [
    {
     "name": "stdout",
     "output_type": "stream",
     "text": [
      "                                                 age\n",
      "cause of death                                      \n",
      " Alzheimer's disease                       79.590909\n",
      " Myself and I)                             76.000000\n",
      " Parkinson's disease                       80.200000\n",
      " Parkinson's disease and multiple myeloma  69.000000\n",
      " Pick's disease                            68.000000\n",
      "...                                              ...\n",
      " plane crash                               55.500000\n",
      " progressive supranuclear palsy            84.000000\n",
      " shot                                      56.500000\n",
      " stabbed                                   85.000000\n",
      " tased                                     48.000000\n",
      "\n",
      "[334 rows x 1 columns]\n"
     ]
    }
   ],
   "source": [
    "import numpy as np\n",
    "\n",
    "df_grouped_cause = df[['cause of death', 'age']\n",
    "                      ].groupby('cause of death').mean()\n",
    "print(df_grouped_cause)\n"
   ]
  },
  {
   "cell_type": "code",
   "execution_count": 512,
   "metadata": {},
   "outputs": [],
   "source": [
    "def get_month(date):\n",
    "    return date.month\n",
    "\n",
    "\n",
    "df['month'] = df.apply(lambda row: get_month(row['date of death']), 1)\n"
   ]
  },
  {
   "cell_type": "code",
   "execution_count": 513,
   "metadata": {},
   "outputs": [],
   "source": [
    "def get_year(date):\n",
    "    return date.year\n",
    "\n",
    "\n",
    "df['year'] = df.apply(lambda row: get_year(row['date of death']), 1)\n"
   ]
  },
  {
   "cell_type": "code",
   "execution_count": 514,
   "metadata": {},
   "outputs": [],
   "source": [
    "df_2016 = df[df['year'] == 2016]\n"
   ]
  },
  {
   "cell_type": "code",
   "execution_count": 515,
   "metadata": {},
   "outputs": [],
   "source": [
    "df_per_month = df_2016.groupby(\n",
    "    'month')['month'].count().reset_index(name='count')\n"
   ]
  },
  {
   "cell_type": "code",
   "execution_count": 516,
   "metadata": {},
   "outputs": [
    {
     "data": {
      "image/png": "[encoded data removed]",
      "text/plain": [
       "<Figure size 640x480 with 1 Axes>"
      ]
     },
     "metadata": {},
     "output_type": "display_data"
    }
   ],
   "source": [
    "import matplotlib.pyplot as plt\n",
    "\n",
    "ax = df_per_month.plot(x='month', y='count', kind='bar',\n",
    "                       title='Deaths per month 2016')\n",
    "ax.set_xlabel('Month')\n",
    "ax.set_ylabel('Deaths')\n",
    "ax.legend(['Deaths'])\n",
    "plt.show()\n"
   ]
  }
 ],
 "metadata": {
  "kernelspec": {
   "display_name": "Python 3.10.5 64-bit",
   "language": "python",
   "name": "python3"
  },
  "language_info": {
   "codemirror_mode": {
    "name": "ipython",
    "version": 3
   },
   "file_extension": ".py",
   "mimetype": "text/x-python",
   "name": "python",
   "nbconvert_exporter": "python",
   "pygments_lexer": "ipython3",
   "version": "3.10.5"
  },
  "orig_nbformat": 4,
  "vscode": {
   "interpreter": {
    "hash": "369f2c481f4da34e4445cda3fffd2e751bd1c4d706f27375911949ba6bb62e1c"
   }
  }
 },
 "nbformat": 4,
 "nbformat_minor": 2
}
