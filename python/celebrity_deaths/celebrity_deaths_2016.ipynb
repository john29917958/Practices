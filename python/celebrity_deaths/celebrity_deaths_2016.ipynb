{
 "cells": [
  {
   "cell_type": "code",
   "execution_count": 5,
   "metadata": {},
   "outputs": [
    {
     "name": "stdout",
     "output_type": "stream",
     "text": [
      "  date of death      name  age     bio  cause_id\n",
      "0    2016-01-01  Person A   71  Bio A.         1\n",
      "1    2016-01-01  Person B   74  Bio B.         1\n",
      "2    2016-01-01  Person A   79  Bio A.         3\n",
      "3    2016-01-01  Person B   45  Bio B.         2\n",
      "4    2016-01-01  Person A   83  Bio A.         5\n",
      "5    2016-01-01  Person B   71  Bio B.         6\n",
      "   cause_id cause_of_death\n",
      "0         1            ALS\n",
      "1         2           bomb\n",
      "2         3           shot\n",
      "3         4           fall\n",
      "4         5          gored\n",
      "5         6          tased\n",
      "  date of death      name  age     bio  cause_id cause_of_death\n",
      "0    2016-01-01  Person A   71  Bio A.         1            ALS\n",
      "1    2016-01-01  Person B   74  Bio B.         1            ALS\n",
      "2    2016-01-01  Person A   79  Bio A.         3           shot\n",
      "3    2016-01-01  Person B   45  Bio B.         2           bomb\n",
      "4    2016-01-01  Person A   83  Bio A.         5          gored\n",
      "5    2016-01-01  Person B   71  Bio B.         6          tased\n"
     ]
    }
   ],
   "source": [
    "import pandas as pd\n",
    "celeb_death = pd.read_excel('celebrity_deaths_2016.xlsx', 'celeb_death')\n",
    "cause_of_death = pd.read_excel('celebrity_deaths_2016.xlsx', 'cause_of_death')\n",
    "data_frame = celeb_death.merge(cause_of_death, how='left', on='cause_id')\n",
    "print(data_frame)"
   ]
  }
 ],
 "metadata": {
  "kernelspec": {
   "display_name": "Python 3.10.5 64-bit",
   "language": "python",
   "name": "python3"
  },
  "language_info": {
   "codemirror_mode": {
    "name": "ipython",
    "version": 3
   },
   "file_extension": ".py",
   "mimetype": "text/x-python",
   "name": "python",
   "nbconvert_exporter": "python",
   "pygments_lexer": "ipython3",
   "version": "3.10.5"
  },
  "orig_nbformat": 4,
  "vscode": {
   "interpreter": {
    "hash": "369f2c481f4da34e4445cda3fffd2e751bd1c4d706f27375911949ba6bb62e1c"
   }
  }
 },
 "nbformat": 4,
 "nbformat_minor": 2
}
