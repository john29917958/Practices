{
 "cells": [
  {
   "cell_type": "code",
   "execution_count": 43,
   "metadata": {},
   "outputs": [
    {
     "name": "stdout",
     "output_type": "stream",
     "text": [
      "  date of death      name  age     bio  cause_id cause_of_death\n",
      "0    2016-01-01  Person A   71  Bio A.         1            ALS\n",
      "1    2016-01-01  Person B   74  Bio B.         1            ALS\n",
      "2    2016-01-01  Person A   79  Bio A.         3           shot\n"
     ]
    }
   ],
   "source": [
    "import pandas as pd\n",
    "celeb_death = pd.read_excel('celebrity_deaths_2016.xlsx', 'celeb_death')\n",
    "cause_of_death = pd.read_excel('celebrity_deaths_2016.xlsx', 'cause_of_death')\n",
    "df = celeb_death.merge(cause_of_death, how='left', on='cause_id')\n",
    "print(df.head(3))"
   ]
  },
  {
   "cell_type": "code",
   "execution_count": 44,
   "metadata": {},
   "outputs": [
    {
     "name": "stdout",
     "output_type": "stream",
     "text": [
      "70.5\n"
     ]
    }
   ],
   "source": [
    "avg_age = df['age'].mean()\n",
    "print(avg_age)"
   ]
  },
  {
   "cell_type": "code",
   "execution_count": 45,
   "metadata": {},
   "outputs": [
    {
     "name": "stdout",
     "output_type": "stream",
     "text": [
      "5\n"
     ]
    }
   ],
   "source": [
    "count = len(df[df['age'] > 70].index)\n",
    "print(count)"
   ]
  },
  {
   "cell_type": "code",
   "execution_count": 46,
   "metadata": {},
   "outputs": [
    {
     "name": "stdout",
     "output_type": "stream",
     "text": [
      "Person B\n",
      "bomb\n"
     ]
    }
   ],
   "source": [
    "df_youngest = df[df['age'] == df['age'].min()]\n",
    "youngest_name = df_youngest.iloc[0]['name']\n",
    "youngest_cause = df_youngest.iloc[0]['cause_of_death']\n",
    "print(youngest_name)\n",
    "print(youngest_cause)"
   ]
  },
  {
   "cell_type": "code",
   "execution_count": 47,
   "metadata": {},
   "outputs": [],
   "source": [
    "df['bio'] = df['bio'].astype(str)"
   ]
  },
  {
   "cell_type": "code",
   "execution_count": 49,
   "metadata": {},
   "outputs": [
    {
     "name": "stdout",
     "output_type": "stream",
     "text": [
      "0\n"
     ]
    }
   ],
   "source": [
    "df_american = df[df['bio'].str.contains('American')]\n",
    "count_american = len(df_american.index)\n",
    "print(count_american)"
   ]
  },
  {
   "cell_type": "code",
   "execution_count": 57,
   "metadata": {},
   "outputs": [
    {
     "ename": "ValueError",
     "evalue": "The truth value of a Series is ambiguous. Use a.empty, a.bool(), a.item(), a.any() or a.all().",
     "output_type": "error",
     "traceback": [
      "\u001b[1;31m---------------------------------------------------------------------------\u001b[0m",
      "\u001b[1;31mValueError\u001b[0m                                Traceback (most recent call last)",
      "Cell \u001b[1;32mIn [57], line 4\u001b[0m\n\u001b[0;32m      1\u001b[0m df_died_50 \u001b[39m=\u001b[39m df[\n\u001b[0;32m      2\u001b[0m     (df[\u001b[39m'\u001b[39m\u001b[39mage\u001b[39m\u001b[39m'\u001b[39m] \u001b[39m==\u001b[39m \u001b[39m50\u001b[39m) \u001b[39m&\u001b[39m\n\u001b[0;32m      3\u001b[0m     (\u001b[39mnot\u001b[39;00m df[\u001b[39m'\u001b[39m\u001b[39mbio\u001b[39m\u001b[39m'\u001b[39m]\u001b[39m.\u001b[39misnull()\u001b[39m.\u001b[39mvalues\u001b[39m.\u001b[39many()) \u001b[39m&\u001b[39m\n\u001b[1;32m----> 4\u001b[0m     (\u001b[39mnot\u001b[39;49;00m df[\u001b[39m'\u001b[39;49m\u001b[39mbio\u001b[39;49m\u001b[39m'\u001b[39;49m]\u001b[39m.\u001b[39;49mstr\u001b[39m.\u001b[39;49mcontains(\u001b[39m'\u001b[39;49m\u001b[39munknown\u001b[39;49m\u001b[39m'\u001b[39;49m))]\n\u001b[0;32m      5\u001b[0m \u001b[39mprint\u001b[39m(df_died_50)\n",
      "File \u001b[1;32mc:\\Python310\\lib\\site-packages\\pandas\\core\\generic.py:1526\u001b[0m, in \u001b[0;36mNDFrame.__nonzero__\u001b[1;34m(self)\u001b[0m\n\u001b[0;32m   1524\u001b[0m \u001b[39m@final\u001b[39m\n\u001b[0;32m   1525\u001b[0m \u001b[39mdef\u001b[39;00m \u001b[39m__nonzero__\u001b[39m(\u001b[39mself\u001b[39m) \u001b[39m-\u001b[39m\u001b[39m>\u001b[39m NoReturn:\n\u001b[1;32m-> 1526\u001b[0m     \u001b[39mraise\u001b[39;00m \u001b[39mValueError\u001b[39;00m(\n\u001b[0;32m   1527\u001b[0m         \u001b[39mf\u001b[39m\u001b[39m\"\u001b[39m\u001b[39mThe truth value of a \u001b[39m\u001b[39m{\u001b[39;00m\u001b[39mtype\u001b[39m(\u001b[39mself\u001b[39m)\u001b[39m.\u001b[39m\u001b[39m__name__\u001b[39m\u001b[39m}\u001b[39;00m\u001b[39m is ambiguous. \u001b[39m\u001b[39m\"\u001b[39m\n\u001b[0;32m   1528\u001b[0m         \u001b[39m\"\u001b[39m\u001b[39mUse a.empty, a.bool(), a.item(), a.any() or a.all().\u001b[39m\u001b[39m\"\u001b[39m\n\u001b[0;32m   1529\u001b[0m     )\n",
      "\u001b[1;31mValueError\u001b[0m: The truth value of a Series is ambiguous. Use a.empty, a.bool(), a.item(), a.any() or a.all()."
     ]
    }
   ],
   "source": [
    "df_died_50 = df[\n",
    "    (df['age'] == 50) &\n",
    "    (not df['bio'].isnull().values.any()) &\n",
    "    (not df['bio'].str.contains('unknown').any())]\n",
    "print(df_died_50)"
   ]
  }
 ],
 "metadata": {
  "kernelspec": {
   "display_name": "Python 3.10.5 64-bit",
   "language": "python",
   "name": "python3"
  },
  "language_info": {
   "codemirror_mode": {
    "name": "ipython",
    "version": 3
   },
   "file_extension": ".py",
   "mimetype": "text/x-python",
   "name": "python",
   "nbconvert_exporter": "python",
   "pygments_lexer": "ipython3",
   "version": "3.10.5"
  },
  "orig_nbformat": 4,
  "vscode": {
   "interpreter": {
    "hash": "369f2c481f4da34e4445cda3fffd2e751bd1c4d706f27375911949ba6bb62e1c"
   }
  }
 },
 "nbformat": 4,
 "nbformat_minor": 2
}
